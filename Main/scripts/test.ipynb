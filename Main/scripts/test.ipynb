{
 "cells": [
  {
   "cell_type": "code",
   "execution_count": null,
   "metadata": {},
   "outputs": [],
   "source": [
    "from page_content_extractor import *\n",
    "\n",
    "ltohtml(\"https://pagalmass.com/\")"
   ]
  },
  {
   "cell_type": "code",
   "execution_count": 10,
   "metadata": {},
   "outputs": [],
   "source": [
    "import sqlite3\n",
    "\n",
    "def create_connection():\n",
    "    connection = sqlite3.connect(\"D:/clg/Project Phase 1/Project/Main/database/books.db\")\n",
    "    return connection\n",
    "\n",
    "create_connection()\n",
    "\n",
    "def create_table():\n",
    "    connection = create_connection()\n",
    "    cursor = connection.cursor()\n",
    "    cursor.execute(\"\"\"\n",
    "    CREATE TABLE IF NOT EXISTS Users (\n",
    "    id INTEGER PRIMARY KEY,\n",
    "    UUID INTERGET PRIMAY KEY,\n",
    "    NAME varchar(100) NOT NULL,\n",
    "    DATE_JOINED DATETIME DEFAULT CURRENT_TIMESTAMP,\n",
    "    COUNTRY TEXT\n",
    "    )\n",
    "    \"\"\")\n",
    "    connection.commit()\n",
    "    connection.close()\n",
    "\n",
    "create_table()"
   ]
  },
  {
   "cell_type": "code",
   "execution_count": 19,
   "metadata": {},
   "outputs": [],
   "source": [
    "\n",
    "def create_user():\n",
    "    connection = create_connection()\n",
    "    cursor = connection.cursor()\n",
    "    cursor.execute(\"INSERT INTO Users (UUID ,NAME, COUNTRY) VALUES ('12345678', 'Vishnu19091', 'INDIA')\")\n",
    "    connection.commit()\n",
    "    connection.close()\n",
    "\n",
    "create_user()"
   ]
  },
  {
   "cell_type": "code",
   "execution_count": 20,
   "metadata": {},
   "outputs": [
    {
     "name": "stdout",
     "output_type": "stream",
     "text": [
      "(1, 86424561, 'Vishnu19091', '2025-03-02 10:59:40', 'INDIA')\n",
      "(2, 12345678, 'Vishnu19091', '2025-03-02 10:59:45', 'INDIA')\n",
      "(3, 12345678, 'Vishnu19091', '2025-03-02 10:59:46', 'INDIA')\n",
      "(4, 12345678, 'Vishnu19091', '2025-03-02 10:59:47', 'INDIA')\n",
      "(5, 12345678, 'Vishnu19091', '2025-03-02 10:59:47', 'INDIA')\n",
      "(6, 12345678, 'Vishnu19091', '2025-03-02 10:59:47', 'INDIA')\n",
      "(7, 12345678, 'Vishnu19091', '2025-03-02 10:59:48', 'INDIA')\n",
      "(8, 12345678, 'Vishnu19091', '2025-03-02 10:59:49', 'INDIA')\n",
      "(9, 12345678, 'Vishnu19091', '2025-03-02 10:59:49', 'INDIA')\n"
     ]
    }
   ],
   "source": [
    "def get_users():\n",
    "    connection=create_connection()\n",
    "    cursor=connection.cursor()\n",
    "    cursor.execute(\"SELECT * FROM Users\")\n",
    "    books=cursor.fetchall()\n",
    "    for book in books:\n",
    "        print(book)\n",
    "    connection.close()\n",
    "\n",
    "get_users()"
   ]
  },
  {
   "cell_type": "code",
   "execution_count": 9,
   "metadata": {},
   "outputs": [],
   "source": [
    "def delete_table():\n",
    "    connection=create_connection()\n",
    "    cursor=connection.cursor()\n",
    "    cursor.execute(\"DROP TABLE Users\")\n",
    "    connection.close()\n",
    "\n",
    "delete_table()"
   ]
  },
  {
   "cell_type": "code",
   "execution_count": null,
   "metadata": {},
   "outputs": [
    {
     "name": "stdout",
     "output_type": "stream",
     "text": [
      "Exported successfully\n"
     ]
    }
   ],
   "source": [
    "dbfile=\"D:/VsCode Workspace/fastapi/todos.db\"\n",
    "\n",
    "\n",
    "import sqlite3\n",
    "import pandas as pd\n",
    "\n",
    "conn=sqlite3.connect(dbfile)\n",
    "\n",
    "df=pd.read_sql_query(\"select * from todos\",conn)\n",
    "df.to_csv('test_export.csv', index=False)\n",
    "\n",
    "conn.close()\n",
    "print(\"Exported successfully\")"
   ]
  }
 ],
 "metadata": {
  "kernelspec": {
   "display_name": "Project-ENV",
   "language": "python",
   "name": "python3"
  },
  "language_info": {
   "codemirror_mode": {
    "name": "ipython",
    "version": 3
   },
   "file_extension": ".py",
   "mimetype": "text/x-python",
   "name": "python",
   "nbconvert_exporter": "python",
   "pygments_lexer": "ipython3",
   "version": "3.11.9"
  }
 },
 "nbformat": 4,
 "nbformat_minor": 2
}
