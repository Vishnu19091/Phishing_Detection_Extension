{
 "cells": [
  {
   "cell_type": "code",
   "execution_count": null,
   "metadata": {},
   "outputs": [],
   "source": [
    "from page_content_extractor import *\n",
    "\n",
    "ltohtml(\"https://pagalmass.com/\")"
   ]
  },
  {
   "cell_type": "code",
   "execution_count": 13,
   "metadata": {},
   "outputs": [
    {
     "data": {
      "text/plain": [
       "<sqlite3.Connection at 0x27f1189c040>"
      ]
     },
     "execution_count": 13,
     "metadata": {},
     "output_type": "execute_result"
    }
   ],
   "source": [
    "import sqlite3\n",
    "\n",
    "def create_connection():\n",
    "    connection = sqlite3.connect(\"D:/clg/Project Phase 1/Project/Main/database/books.db\")\n",
    "    return connection\n",
    "\n",
    "create_connection()\n",
    "\n",
    "# def create_table():\n",
    "#     connection = create_connection()\n",
    "#     cursor = connection.cursor()\n",
    "#     cursor.execute(\"\"\"\n",
    "#     CREATE TABLE IF NOT EXISTS Users (\n",
    "#     id INTEGER PRIMARY KEY AUTOINCREMENT,\n",
    "#     UUID INTERGET PRIMAY KEY,\n",
    "#     NAME TEXT NOT NULL,\n",
    "#     DATE_JOINED TEXT,\n",
    "#     COUNTRY TEXT\n",
    "#     )\n",
    "#     \"\"\")\n",
    "#     connection.commit()\n",
    "#     connection.close()\n",
    "\n",
    "# create_table()"
   ]
  },
  {
   "cell_type": "code",
   "execution_count": null,
   "metadata": {},
   "outputs": [],
   "source": [
    "\n",
    "def create_user():\n",
    "    connection = create_connection()\n",
    "    cursor = connection.cursor()\n",
    "    cursor.execute(\"INSERT INTO Users (UUID ,NAME, DATE_JOINED, COUNTRY) VALUES ('f918d731', 'ADMIN', '28/02/2025','INDIA🌚')\")\n",
    "    connection.commit()\n",
    "    connection.close()\n",
    "\n",
    "create_user()"
   ]
  },
  {
   "cell_type": "code",
   "execution_count": 14,
   "metadata": {},
   "outputs": [
    {
     "name": "stdout",
     "output_type": "stream",
     "text": [
      "(39, 1234567890, 'root', '01/03/2025', 'India')\n",
      "(40, 987654321, 'Vishnu19091', '01/03/2025', 'India')\n",
      "(41, 987612311, 'Vishnu', '01/03/2025', 'India')\n",
      "(42, 121252362, 'Charles', '01/03/2025', 'US')\n",
      "(43, 121212322, 'Aaron', '01/03/2025', 'US')\n",
      "(44, 121432322, 'Tom', '01/03/2025', 'US')\n"
     ]
    }
   ],
   "source": [
    "def get_users():\n",
    "    connection=create_connection()\n",
    "    cursor=connection.cursor()\n",
    "    cursor.execute(\"SELECT * FROM Users\")\n",
    "    books=cursor.fetchall()\n",
    "    for book in books:\n",
    "        print(book)\n",
    "    connection.close()\n",
    "\n",
    "get_users()"
   ]
  },
  {
   "cell_type": "code",
   "execution_count": null,
   "metadata": {},
   "outputs": [],
   "source": [
    "def delete_table():\n",
    "    connection=create_connection()\n",
    "    cursor=connection.cursor()\n",
    "    cursor.execute(\"DROP TABLE Users\")\n",
    "    connection.close()\n",
    "\n",
    "delete_table()"
   ]
  },
  {
   "cell_type": "code",
   "execution_count": null,
   "metadata": {},
   "outputs": [],
   "source": [
    "from sqlalchemy import create_engine\n",
    "from sqlalchemy.orm import sessionmaker\n",
    "from sqlalchemy.ext.declarative import declarative_base\n",
    "\n",
    "SQLALCHEMY_DATABASE_URL = \"sqlite:///./books.db\"\n",
    "engine=create_engine(\n",
    "    SQLALCHEMY_DATABASE_URL, connect_args={\"check_same_thread\":False}\n",
    ")\n",
    "\n",
    "SessionLocal=sessionmaker(autocommit=False, autoflush=False, bind=engine)\n",
    "\n",
    "Base=declarative_base()"
   ]
  }
 ],
 "metadata": {
  "kernelspec": {
   "display_name": "Project-ENV",
   "language": "python",
   "name": "python3"
  },
  "language_info": {
   "codemirror_mode": {
    "name": "ipython",
    "version": 3
   },
   "file_extension": ".py",
   "mimetype": "text/x-python",
   "name": "python",
   "nbconvert_exporter": "python",
   "pygments_lexer": "ipython3",
   "version": "3.11.9"
  }
 },
 "nbformat": 4,
 "nbformat_minor": 2
}
