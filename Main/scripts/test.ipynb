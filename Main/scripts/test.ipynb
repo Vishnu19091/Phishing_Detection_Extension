{
 "cells": [
  {
   "cell_type": "code",
   "execution_count": 2,
   "metadata": {},
   "outputs": [],
   "source": [
    "from page_content_extractor import *\n",
    "\n",
    "# ltohtml('https://pypi.org/')"
   ]
  },
  {
   "cell_type": "code",
   "execution_count": 7,
   "metadata": {},
   "outputs": [
    {
     "data": {
      "text/plain": [
       "['https://metamorpheus.vercel.app',\n",
       " 'https://welp-wiki.vercel.app',\n",
       " 'https://hackclub.com/hcb',\n",
       " 'https://hackclub.com',\n",
       " 'https://vit.ac.in/',\n",
       " 'https://www.amity.edu/',\n",
       " 'https://uwaterloo.ca',\n",
       " 'https://welp.it.com',\n",
       " 'https://welp-wiki.vercel.app',\n",
       " 'https://github.com/Aryankpoor/welp',\n",
       " 'https://metamorpheus.vercel.app',\n",
       " 'https://github.com/Aryankpoor/metamorpheus',\n",
       " 'https://github.com/Aryankpoor/screen-wrec',\n",
       " 'https://order-trackerr.netlify.app/',\n",
       " 'https://order-trackerr.netlify.app/',\n",
       " 'https://github.com/Aryankpoor/ordel',\n",
       " 'https://hacktoberfest.digitalocean.com/',\n",
       " 'https://www.digitalocean.com/blog/hactoberfest-2024-how-to-participate',\n",
       " 'https://www.youtube.com/watch?v=-T8ssjybfKo',\n",
       " 'https://github.com/Aryankpoor/Ordel',\n",
       " 'https://order-trackerr.netlify.app/',\n",
       " 'https://www.youtube.com/watch?v=0KB0PQ8qzks',\n",
       " 'https://github.com/Aryankpoor/Ordel',\n",
       " 'https://order-trackerr.netlify.app/',\n",
       " 'https://www.digitalocean.com/blog/hacktoberfest-2022-your-mission-for-open-source',\n",
       " 'https://www.youtube.com/watch?v=vSdSFxIKy5w',\n",
       " 'https://www.digitalocean.com/blog/hacktoberfest-2021-recap',\n",
       " 'https://www.youtube.com/watch?v=vSdSFxIKy5w',\n",
       " 'https://www.digitalocean.com/blog/hacktoberfest-recap2020',\n",
       " 'https://www.youtube.com/watch?v=vSdSFxIKy5w',\n",
       " 'https://www.linkedin.com/in/aryan-kapoor-4b0894207/',\n",
       " 'https://github.com/Aryankpoor',\n",
       " 'https://www.linkedin.com/in/aryan-kapoor-4b0894207/']"
      ]
     },
     "execution_count": 7,
     "metadata": {},
     "output_type": "execute_result"
    }
   ],
   "source": [
    "ltohtml('https://aryankap.com/')"
   ]
  }
 ],
 "metadata": {
  "kernelspec": {
   "display_name": "Project-ENV",
   "language": "python",
   "name": "python3"
  },
  "language_info": {
   "codemirror_mode": {
    "name": "ipython",
    "version": 3
   },
   "file_extension": ".py",
   "mimetype": "text/x-python",
   "name": "python",
   "nbconvert_exporter": "python",
   "pygments_lexer": "ipython3",
   "version": "3.11.9"
  }
 },
 "nbformat": 4,
 "nbformat_minor": 2
}
